{
 "cells": [
  {
   "cell_type": "code",
   "execution_count": 7,
   "id": "f8fb475b",
   "metadata": {},
   "outputs": [],
   "source": [
    "%matplotlib inline\n",
    "import os\n",
    "import cv2\n",
    "import numpy as np\n",
    "import pandas as pd\n",
    "import seaborn as sns\n",
    "import tensorflow as tf\n",
    "import matplotlib.pyplot as plt\n",
    "from matplotlib.image import imread\n",
    "from tensorflow.keras.optimizers import Adam\n",
    "from tensorflow.keras.models import Sequential\n",
    "from tensorflow.keras.layers import Dense,Flatten,Reshape\n",
    "from tensorflow.keras.preprocessing.image import ImageDataGenerator\n",
    "from jupyterthemes import jtplot #for making plots appear with same theme\n",
    "jtplot.style(theme='chesterish', context='notebook', ticks=True, grid=False)"
   ]
  },
  {
   "cell_type": "markdown",
   "id": "e66d8352",
   "metadata": {},
   "source": [
    "## Data Preprocessing"
   ]
  },
  {
   "cell_type": "code",
   "execution_count": 8,
   "id": "9a1ffc1e",
   "metadata": {},
   "outputs": [
    {
     "data": {
      "text/plain": [
       "['gen_test', 'gen_train', 'test', 'Thumbs.db', 'train', 'valid']"
      ]
     },
     "execution_count": 8,
     "metadata": {},
     "output_type": "execute_result"
    }
   ],
   "source": [
    "#indicate dataset path\n",
    "data_dir = \"C:\\\\Users\\\\kmens\\Desktop\\\\Fourth Year\\\\4ML3\\\\Project\\\\archive\\\\NEU Metal Surface Defects Data\"\n",
    "os.listdir(data_dir)"
   ]
  },
  {
   "cell_type": "code",
   "execution_count": 9,
   "id": "4a89959b",
   "metadata": {},
   "outputs": [],
   "source": [
    "#test & train paths\n",
    "test_path = data_dir+'\\\\test\\\\'\n",
    "train_path = data_dir+'\\\\train\\\\'\n",
    "gen_train = data_dir + \"\\\\gen_train\\\\\"\n",
    "gen_test = data_dir + \"\\\\gen_test\\\\\""
   ]
  },
  {
   "cell_type": "code",
   "execution_count": 10,
   "id": "b9cb1bbd",
   "metadata": {},
   "outputs": [
    {
     "data": {
      "text/plain": [
       "['Crazing', 'Inclusion', 'Patches', 'Pitted', 'Rolled', 'Scratches']"
      ]
     },
     "execution_count": 10,
     "metadata": {},
     "output_type": "execute_result"
    }
   ],
   "source": [
    "#view folders in test path\n",
    "os.listdir(test_path)"
   ]
  },
  {
   "cell_type": "code",
   "execution_count": 11,
   "id": "e1df8665",
   "metadata": {},
   "outputs": [
    {
     "data": {
      "text/plain": [
       "(200, 200, 1)"
      ]
     },
     "execution_count": 11,
     "metadata": {},
     "output_type": "execute_result"
    }
   ],
   "source": [
    "#pick a random image \n",
    "random_inclusion = train_path + \"Inclusion\\\\\" + os.listdir(train_path+\"Inclusion\")[0]\n",
    "random_inclusion = np.expand_dims(imread(random_inclusion), axis=-1)\n",
    "#Images must be read as (200,200,1) shape\n",
    "#check shape\n",
    "random_inclusion.shape"
   ]
  },
  {
   "cell_type": "code",
   "execution_count": 12,
   "id": "7527abac",
   "metadata": {},
   "outputs": [
    {
     "data": {
      "text/plain": [
       "'C:\\\\Users\\\\kmens\\\\Desktop\\\\Fourth Year\\\\4ML3\\\\Project\\\\archive\\\\NEU Metal Surface Defects Data\\\\train\\\\Inclusion\\\\In_120.bmp'"
      ]
     },
     "execution_count": 12,
     "metadata": {},
     "output_type": "execute_result"
    }
   ],
   "source": [
    "train_path + \"Inclusion\\\\\" + os.listdir(train_path+\"Inclusion\")[0]"
   ]
  },
  {
   "cell_type": "code",
   "execution_count": 13,
   "id": "bae48255",
   "metadata": {},
   "outputs": [
    {
     "data": {
      "text/plain": [
       "\"\\ncv2.imshow('sample input', random_inclusion)\\ncv2.waitKey(0)\\ncv2.destroyAllWindows()\\n\""
      ]
     },
     "execution_count": 13,
     "metadata": {},
     "output_type": "execute_result"
    }
   ],
   "source": [
    "\"\"\"\n",
    "cv2.imshow('sample input', random_inclusion)\n",
    "cv2.waitKey(0)\n",
    "cv2.destroyAllWindows()\n",
    "\"\"\""
   ]
  },
  {
   "cell_type": "code",
   "execution_count": null,
   "id": "e2ec374c",
   "metadata": {},
   "outputs": [],
   "source": []
  },
  {
   "cell_type": "code",
   "execution_count": 14,
   "id": "39ca23f2",
   "metadata": {},
   "outputs": [],
   "source": [
    "#initialize image transformer\n",
    "data_gen = ImageDataGenerator(rotation_range=15, width_shift_range=0.05, height_shift_range=0.05,\n",
    "                              shear_range = 0.1, horizontal_flip=True,vertical_flip=True, \n",
    "                              fill_mode = 'constant')"
   ]
  },
  {
   "cell_type": "code",
   "execution_count": 15,
   "id": "2d19d294",
   "metadata": {},
   "outputs": [
    {
     "data": {
      "text/plain": [
       "'\\ncv2.imshow(\"transformed img\", data_gen.random_transform(random_inclusion))\\ncv2.waitKey(0)\\ncv2.destroyAllWindows()\\n'"
      ]
     },
     "execution_count": 15,
     "metadata": {},
     "output_type": "execute_result"
    }
   ],
   "source": [
    "\"\"\"\n",
    "cv2.imshow(\"transformed img\", data_gen.random_transform(random_inclusion))\n",
    "cv2.waitKey(0)\n",
    "cv2.destroyAllWindows()\n",
    "\"\"\""
   ]
  },
  {
   "cell_type": "code",
   "execution_count": 16,
   "id": "e0882e7b",
   "metadata": {},
   "outputs": [],
   "source": [
    "#plt.imshow with \"gray\" brightens grayscale images too much\n",
    "#cv2.imshow shows real colors"
   ]
  },
  {
   "cell_type": "markdown",
   "id": "e88ccb31",
   "metadata": {},
   "source": [
    "### Save x_train & y_train"
   ]
  },
  {
   "cell_type": "code",
   "execution_count": 17,
   "id": "14af763b",
   "metadata": {},
   "outputs": [
    {
     "name": "stdout",
     "output_type": "stream",
     "text": [
      "Found 1656 images belonging to 6 classes.\n"
     ]
    }
   ],
   "source": [
    "#CLEAR DIRECTORY BEFORE RUNNING A SECOND TIME\n",
    "#generate one large batch as dataset\n",
    "#train directory with image transformer\n",
    "train_gen = data_gen.flow_from_directory(train_path,\n",
    "                                         target_size=(200,200),\n",
    "                                         color_mode=\"grayscale\",\n",
    "                                         class_mode=\"sparse\",\n",
    "                                         batch_size=900,\n",
    "                                         shuffle=True,\n",
    "                                         save_to_dir=gen_train)\n",
    "\n",
    "for i in range(1):\n",
    "    x_train, y_train = train_gen.next()\n",
    "    \n",
    "x_train = x_train/255\n",
    "x_train = np.squeeze(x_train, axis=-1)"
   ]
  },
  {
   "cell_type": "code",
   "execution_count": 18,
   "id": "45795a98",
   "metadata": {},
   "outputs": [
    {
     "data": {
      "text/plain": [
       "{'Crazing': 0,\n",
       " 'Inclusion': 1,\n",
       " 'Patches': 2,\n",
       " 'Pitted': 3,\n",
       " 'Rolled': 4,\n",
       " 'Scratches': 5}"
      ]
     },
     "execution_count": 18,
     "metadata": {},
     "output_type": "execute_result"
    }
   ],
   "source": [
    "train_gen.class_indices"
   ]
  },
  {
   "cell_type": "markdown",
   "id": "dcb2559b",
   "metadata": {},
   "source": [
    "### Save x_test & y_test"
   ]
  },
  {
   "cell_type": "code",
   "execution_count": 19,
   "id": "f89f58c5",
   "metadata": {},
   "outputs": [
    {
     "name": "stdout",
     "output_type": "stream",
     "text": [
      "Found 72 images belonging to 6 classes.\n"
     ]
    },
    {
     "data": {
      "text/plain": [
       "(900, 200, 200)"
      ]
     },
     "execution_count": 19,
     "metadata": {},
     "output_type": "execute_result"
    }
   ],
   "source": [
    "#CLEAR DIRECTORY BEFORE RUNNING A SECOND TIME\n",
    "#generate one large batch as dataset\n",
    "#test directory with image transformer\n",
    "test_gen = data_gen.flow_from_directory(test_path,\n",
    "                                        target_size=(200,200),\n",
    "                                        color_mode=\"grayscale\",\n",
    "                                        class_mode=\"sparse\",\n",
    "                                        batch_size=72,\n",
    "                                        shuffle=True,\n",
    "                                        save_to_dir=gen_test)\n",
    "\n",
    "for i in range(1):\n",
    "    x_test, y_test = test_gen.next()\n",
    "    \n",
    "x_test = x_test/255\n",
    "x_test = np.squeeze(x_test, axis=-1)\n",
    "x_train.shape"
   ]
  },
  {
   "cell_type": "code",
   "execution_count": 20,
   "id": "0673ca75",
   "metadata": {},
   "outputs": [
    {
     "data": {
      "text/plain": [
       "array([1, 3, 4, 5, 4, 3, 2, 1, 5, 0, 1, 1, 5, 2, 0, 3, 1, 0, 4, 3, 2, 5,\n",
       "       3, 0, 1, 3, 4, 4, 0, 2, 1, 1, 1, 4, 1, 3, 2, 5, 4, 0, 3, 3, 1, 1,\n",
       "       0, 0, 5, 2, 5, 2, 2, 4, 3, 4, 0, 2, 5, 0, 2, 4, 5, 3, 3, 5, 5, 2,\n",
       "       0, 4, 2, 5, 4, 0], dtype=uint8)"
      ]
     },
     "execution_count": 20,
     "metadata": {},
     "output_type": "execute_result"
    }
   ],
   "source": [
    "#make sure labels are integers\n",
    "y_train = y_train.astype(\"uint8\")\n",
    "y_test = y_test.astype(\"uint8\")\n",
    "y_test"
   ]
  },
  {
   "cell_type": "code",
   "execution_count": 21,
   "id": "849e305c",
   "metadata": {},
   "outputs": [
    {
     "data": {
      "text/plain": [
       "40000"
      ]
     },
     "execution_count": 21,
     "metadata": {},
     "output_type": "execute_result"
    }
   ],
   "source": [
    "200*200"
   ]
  },
  {
   "cell_type": "markdown",
   "id": "39d39bbd",
   "metadata": {},
   "source": [
    "## Autoencoder"
   ]
  },
  {
   "cell_type": "code",
   "execution_count": 22,
   "id": "b626dcd3",
   "metadata": {},
   "outputs": [],
   "source": [
    "#downsampling\n",
    "encoder = Sequential()\n",
    "encoder.add(Flatten(input_shape=[200,200]))\n",
    "encoder.add(Dense(1250,activation=\"relu\"))\n",
    "encoder.add(Dense(625,activation=\"relu\"))\n",
    "encoder.add(Dense(312,activation=\"relu\"))\n",
    "encoder.add(Dense(156,activation=\"relu\"))\n",
    "\n",
    "#upsampling\n",
    "decoder = Sequential()\n",
    "decoder.add(Dense(312, input_shape=[156],activation='relu'))\n",
    "decoder.add(Dense(625,activation='relu'))\n",
    "decoder.add(Dense(1250,activation='relu'))\n",
    "decoder.add(Dense(40000,activation='sigmoid'))\n",
    "decoder.add(Reshape([200,200]))"
   ]
  },
  {
   "cell_type": "code",
   "execution_count": 23,
   "id": "420404d0",
   "metadata": {},
   "outputs": [],
   "source": [
    "#put together the encoder and decoder\n",
    "autoencoder = Sequential([encoder, decoder])\n",
    "autoencoder.compile(loss=\"binary_crossentropy\",optimizer=\"adam\",metrics=['accuracy'])"
   ]
  },
  {
   "cell_type": "code",
   "execution_count": 24,
   "id": "68db293b",
   "metadata": {},
   "outputs": [
    {
     "name": "stdout",
     "output_type": "stream",
     "text": [
      "Epoch 1/500\n",
      "29/29 [==============================] - 3s 29ms/step - loss: 0.6816 - accuracy: 0.0039 - val_loss: 0.6829 - val_accuracy: 0.0042\n",
      "Epoch 2/500\n",
      "29/29 [==============================] - 1s 22ms/step - loss: 0.6764 - accuracy: 0.0045 - val_loss: 0.6803 - val_accuracy: 0.0035\n",
      "Epoch 3/500\n",
      "29/29 [==============================] - 1s 22ms/step - loss: 0.6741 - accuracy: 0.0039 - val_loss: 0.6801 - val_accuracy: 0.0040\n",
      "Epoch 4/500\n",
      "29/29 [==============================] - 1s 22ms/step - loss: 0.6725 - accuracy: 0.0046 - val_loss: 0.6752 - val_accuracy: 0.0040\n",
      "Epoch 5/500\n",
      "29/29 [==============================] - 1s 22ms/step - loss: 0.6629 - accuracy: 0.0050 - val_loss: 0.6699 - val_accuracy: 0.0081\n",
      "Epoch 6/500\n",
      "29/29 [==============================] - 1s 22ms/step - loss: 0.6417 - accuracy: 0.0066 - val_loss: 0.6487 - val_accuracy: 0.0074\n",
      "Epoch 7/500\n",
      "29/29 [==============================] - 1s 22ms/step - loss: 0.6221 - accuracy: 0.0085 - val_loss: 0.6423 - val_accuracy: 0.0089\n",
      "Epoch 8/500\n",
      "29/29 [==============================] - 1s 22ms/step - loss: 0.6164 - accuracy: 0.0086 - val_loss: 0.6283 - val_accuracy: 0.0106\n",
      "Epoch 9/500\n",
      "29/29 [==============================] - 1s 22ms/step - loss: 0.6094 - accuracy: 0.0098 - val_loss: 0.6228 - val_accuracy: 0.0116\n",
      "Epoch 10/500\n",
      "29/29 [==============================] - 1s 22ms/step - loss: 0.6039 - accuracy: 0.0127 - val_loss: 0.6197 - val_accuracy: 0.0140\n",
      "Epoch 11/500\n",
      "29/29 [==============================] - 1s 22ms/step - loss: 0.6027 - accuracy: 0.0128 - val_loss: 0.6226 - val_accuracy: 0.0144\n",
      "Epoch 12/500\n",
      "29/29 [==============================] - 1s 22ms/step - loss: 0.6035 - accuracy: 0.0135 - val_loss: 0.6187 - val_accuracy: 0.0172\n",
      "Epoch 13/500\n",
      "29/29 [==============================] - 1s 22ms/step - loss: 0.6005 - accuracy: 0.0136 - val_loss: 0.6193 - val_accuracy: 0.0126\n",
      "Epoch 14/500\n",
      "29/29 [==============================] - 1s 22ms/step - loss: 0.6001 - accuracy: 0.0151 - val_loss: 0.6172 - val_accuracy: 0.0150\n",
      "Epoch 15/500\n",
      "29/29 [==============================] - 1s 22ms/step - loss: 0.5987 - accuracy: 0.0155 - val_loss: 0.6179 - val_accuracy: 0.0170\n",
      "Epoch 16/500\n",
      "29/29 [==============================] - 1s 22ms/step - loss: 0.5975 - accuracy: 0.0156 - val_loss: 0.6166 - val_accuracy: 0.0181\n",
      "Epoch 17/500\n",
      "29/29 [==============================] - 1s 22ms/step - loss: 0.5964 - accuracy: 0.0164 - val_loss: 0.6183 - val_accuracy: 0.0198\n",
      "Epoch 18/500\n",
      "29/29 [==============================] - 1s 22ms/step - loss: 0.5969 - accuracy: 0.0169 - val_loss: 0.6157 - val_accuracy: 0.0151\n",
      "Epoch 19/500\n",
      "29/29 [==============================] - 1s 22ms/step - loss: 0.5955 - accuracy: 0.0169 - val_loss: 0.6150 - val_accuracy: 0.0155\n",
      "Epoch 20/500\n",
      "29/29 [==============================] - 1s 22ms/step - loss: 0.5944 - accuracy: 0.0171 - val_loss: 0.6251 - val_accuracy: 0.0134\n",
      "Epoch 21/500\n",
      "29/29 [==============================] - 1s 22ms/step - loss: 0.5974 - accuracy: 0.0156 - val_loss: 0.6162 - val_accuracy: 0.0175\n",
      "Epoch 22/500\n",
      "29/29 [==============================] - 1s 22ms/step - loss: 0.5937 - accuracy: 0.0171 - val_loss: 0.6155 - val_accuracy: 0.0148\n",
      "Epoch 23/500\n",
      "29/29 [==============================] - 1s 22ms/step - loss: 0.5923 - accuracy: 0.0176 - val_loss: 0.6141 - val_accuracy: 0.0164\n",
      "Epoch 24/500\n",
      "29/29 [==============================] - 1s 22ms/step - loss: 0.5921 - accuracy: 0.0177 - val_loss: 0.6144 - val_accuracy: 0.0141\n",
      "Epoch 25/500\n",
      "29/29 [==============================] - 1s 22ms/step - loss: 0.5922 - accuracy: 0.0167 - val_loss: 0.6128 - val_accuracy: 0.0176\n",
      "Epoch 26/500\n",
      "29/29 [==============================] - 1s 22ms/step - loss: 0.5892 - accuracy: 0.0185 - val_loss: 0.6141 - val_accuracy: 0.0115\n",
      "Epoch 27/500\n",
      "29/29 [==============================] - 1s 22ms/step - loss: 0.5895 - accuracy: 0.0181 - val_loss: 0.6121 - val_accuracy: 0.0171\n",
      "Epoch 28/500\n",
      "29/29 [==============================] - 1s 22ms/step - loss: 0.5883 - accuracy: 0.0186 - val_loss: 0.6088 - val_accuracy: 0.0172\n",
      "Epoch 29/500\n",
      "29/29 [==============================] - 1s 23ms/step - loss: 0.5862 - accuracy: 0.0194 - val_loss: 0.6099 - val_accuracy: 0.0174\n",
      "Epoch 30/500\n",
      "29/29 [==============================] - 1s 22ms/step - loss: 0.5851 - accuracy: 0.0202 - val_loss: 0.6199 - val_accuracy: 0.0132\n",
      "Epoch 31/500\n",
      "29/29 [==============================] - 1s 22ms/step - loss: 0.5885 - accuracy: 0.0198 - val_loss: 0.6116 - val_accuracy: 0.0162\n",
      "Epoch 32/500\n",
      "29/29 [==============================] - 1s 22ms/step - loss: 0.5844 - accuracy: 0.0202 - val_loss: 0.6068 - val_accuracy: 0.0182\n",
      "Epoch 33/500\n",
      "29/29 [==============================] - 1s 22ms/step - loss: 0.5839 - accuracy: 0.0205 - val_loss: 0.6130 - val_accuracy: 0.0157\n",
      "Epoch 34/500\n",
      "29/29 [==============================] - 1s 22ms/step - loss: 0.5843 - accuracy: 0.0209 - val_loss: 0.6090 - val_accuracy: 0.0150\n",
      "Epoch 35/500\n",
      "10/29 [=========>....................] - ETA: 0s - loss: 0.5825 - accuracy: 0.0219"
     ]
    },
    {
     "ename": "KeyboardInterrupt",
     "evalue": "",
     "output_type": "error",
     "traceback": [
      "\u001b[1;31m---------------------------------------------------------------------------\u001b[0m",
      "\u001b[1;31mKeyboardInterrupt\u001b[0m                         Traceback (most recent call last)",
      "\u001b[1;32m<ipython-input-24-14f152049164>\u001b[0m in \u001b[0;36m<module>\u001b[1;34m\u001b[0m\n\u001b[0;32m      1\u001b[0m \u001b[1;31m#train the autoencoder\u001b[0m\u001b[1;33m\u001b[0m\u001b[1;33m\u001b[0m\u001b[1;33m\u001b[0m\u001b[0m\n\u001b[1;32m----> 2\u001b[1;33m \u001b[0mautoencoder\u001b[0m\u001b[1;33m.\u001b[0m\u001b[0mfit\u001b[0m\u001b[1;33m(\u001b[0m\u001b[0mx_train\u001b[0m\u001b[1;33m,\u001b[0m \u001b[0mx_train\u001b[0m\u001b[1;33m,\u001b[0m \u001b[0mepochs\u001b[0m\u001b[1;33m=\u001b[0m\u001b[1;36m500\u001b[0m\u001b[1;33m,\u001b[0m\u001b[0mvalidation_data\u001b[0m\u001b[1;33m=\u001b[0m\u001b[1;33m(\u001b[0m\u001b[0mx_test\u001b[0m\u001b[1;33m,\u001b[0m \u001b[0mx_test\u001b[0m\u001b[1;33m)\u001b[0m\u001b[1;33m)\u001b[0m\u001b[1;33m\u001b[0m\u001b[1;33m\u001b[0m\u001b[0m\n\u001b[0m",
      "\u001b[1;32m~\\anaconda3\\envs\\tensorflow\\lib\\site-packages\\tensorflow\\python\\keras\\engine\\training.py\u001b[0m in \u001b[0;36mfit\u001b[1;34m(self, x, y, batch_size, epochs, verbose, callbacks, validation_split, validation_data, shuffle, class_weight, sample_weight, initial_epoch, steps_per_epoch, validation_steps, validation_batch_size, validation_freq, max_queue_size, workers, use_multiprocessing)\u001b[0m\n\u001b[0;32m   1181\u001b[0m                 _r=1):\n\u001b[0;32m   1182\u001b[0m               \u001b[0mcallbacks\u001b[0m\u001b[1;33m.\u001b[0m\u001b[0mon_train_batch_begin\u001b[0m\u001b[1;33m(\u001b[0m\u001b[0mstep\u001b[0m\u001b[1;33m)\u001b[0m\u001b[1;33m\u001b[0m\u001b[1;33m\u001b[0m\u001b[0m\n\u001b[1;32m-> 1183\u001b[1;33m               \u001b[0mtmp_logs\u001b[0m \u001b[1;33m=\u001b[0m \u001b[0mself\u001b[0m\u001b[1;33m.\u001b[0m\u001b[0mtrain_function\u001b[0m\u001b[1;33m(\u001b[0m\u001b[0miterator\u001b[0m\u001b[1;33m)\u001b[0m\u001b[1;33m\u001b[0m\u001b[1;33m\u001b[0m\u001b[0m\n\u001b[0m\u001b[0;32m   1184\u001b[0m               \u001b[1;32mif\u001b[0m \u001b[0mdata_handler\u001b[0m\u001b[1;33m.\u001b[0m\u001b[0mshould_sync\u001b[0m\u001b[1;33m:\u001b[0m\u001b[1;33m\u001b[0m\u001b[1;33m\u001b[0m\u001b[0m\n\u001b[0;32m   1185\u001b[0m                 \u001b[0mcontext\u001b[0m\u001b[1;33m.\u001b[0m\u001b[0masync_wait\u001b[0m\u001b[1;33m(\u001b[0m\u001b[1;33m)\u001b[0m\u001b[1;33m\u001b[0m\u001b[1;33m\u001b[0m\u001b[0m\n",
      "\u001b[1;32m~\\anaconda3\\envs\\tensorflow\\lib\\site-packages\\tensorflow\\python\\eager\\def_function.py\u001b[0m in \u001b[0;36m__call__\u001b[1;34m(self, *args, **kwds)\u001b[0m\n\u001b[0;32m    887\u001b[0m \u001b[1;33m\u001b[0m\u001b[0m\n\u001b[0;32m    888\u001b[0m       \u001b[1;32mwith\u001b[0m \u001b[0mOptionalXlaContext\u001b[0m\u001b[1;33m(\u001b[0m\u001b[0mself\u001b[0m\u001b[1;33m.\u001b[0m\u001b[0m_jit_compile\u001b[0m\u001b[1;33m)\u001b[0m\u001b[1;33m:\u001b[0m\u001b[1;33m\u001b[0m\u001b[1;33m\u001b[0m\u001b[0m\n\u001b[1;32m--> 889\u001b[1;33m         \u001b[0mresult\u001b[0m \u001b[1;33m=\u001b[0m \u001b[0mself\u001b[0m\u001b[1;33m.\u001b[0m\u001b[0m_call\u001b[0m\u001b[1;33m(\u001b[0m\u001b[1;33m*\u001b[0m\u001b[0margs\u001b[0m\u001b[1;33m,\u001b[0m \u001b[1;33m**\u001b[0m\u001b[0mkwds\u001b[0m\u001b[1;33m)\u001b[0m\u001b[1;33m\u001b[0m\u001b[1;33m\u001b[0m\u001b[0m\n\u001b[0m\u001b[0;32m    890\u001b[0m \u001b[1;33m\u001b[0m\u001b[0m\n\u001b[0;32m    891\u001b[0m       \u001b[0mnew_tracing_count\u001b[0m \u001b[1;33m=\u001b[0m \u001b[0mself\u001b[0m\u001b[1;33m.\u001b[0m\u001b[0mexperimental_get_tracing_count\u001b[0m\u001b[1;33m(\u001b[0m\u001b[1;33m)\u001b[0m\u001b[1;33m\u001b[0m\u001b[1;33m\u001b[0m\u001b[0m\n",
      "\u001b[1;32m~\\anaconda3\\envs\\tensorflow\\lib\\site-packages\\tensorflow\\python\\eager\\def_function.py\u001b[0m in \u001b[0;36m_call\u001b[1;34m(self, *args, **kwds)\u001b[0m\n\u001b[0;32m    915\u001b[0m       \u001b[1;31m# In this case we have created variables on the first call, so we run the\u001b[0m\u001b[1;33m\u001b[0m\u001b[1;33m\u001b[0m\u001b[1;33m\u001b[0m\u001b[0m\n\u001b[0;32m    916\u001b[0m       \u001b[1;31m# defunned version which is guaranteed to never create variables.\u001b[0m\u001b[1;33m\u001b[0m\u001b[1;33m\u001b[0m\u001b[1;33m\u001b[0m\u001b[0m\n\u001b[1;32m--> 917\u001b[1;33m       \u001b[1;32mreturn\u001b[0m \u001b[0mself\u001b[0m\u001b[1;33m.\u001b[0m\u001b[0m_stateless_fn\u001b[0m\u001b[1;33m(\u001b[0m\u001b[1;33m*\u001b[0m\u001b[0margs\u001b[0m\u001b[1;33m,\u001b[0m \u001b[1;33m**\u001b[0m\u001b[0mkwds\u001b[0m\u001b[1;33m)\u001b[0m  \u001b[1;31m# pylint: disable=not-callable\u001b[0m\u001b[1;33m\u001b[0m\u001b[1;33m\u001b[0m\u001b[0m\n\u001b[0m\u001b[0;32m    918\u001b[0m     \u001b[1;32melif\u001b[0m \u001b[0mself\u001b[0m\u001b[1;33m.\u001b[0m\u001b[0m_stateful_fn\u001b[0m \u001b[1;32mis\u001b[0m \u001b[1;32mnot\u001b[0m \u001b[1;32mNone\u001b[0m\u001b[1;33m:\u001b[0m\u001b[1;33m\u001b[0m\u001b[1;33m\u001b[0m\u001b[0m\n\u001b[0;32m    919\u001b[0m       \u001b[1;31m# Release the lock early so that multiple threads can perform the call\u001b[0m\u001b[1;33m\u001b[0m\u001b[1;33m\u001b[0m\u001b[1;33m\u001b[0m\u001b[0m\n",
      "\u001b[1;32m~\\anaconda3\\envs\\tensorflow\\lib\\site-packages\\tensorflow\\python\\eager\\function.py\u001b[0m in \u001b[0;36m__call__\u001b[1;34m(self, *args, **kwargs)\u001b[0m\n\u001b[0;32m   3021\u001b[0m       (graph_function,\n\u001b[0;32m   3022\u001b[0m        filtered_flat_args) = self._maybe_define_function(args, kwargs)\n\u001b[1;32m-> 3023\u001b[1;33m     return graph_function._call_flat(\n\u001b[0m\u001b[0;32m   3024\u001b[0m         filtered_flat_args, captured_inputs=graph_function.captured_inputs)  # pylint: disable=protected-access\n\u001b[0;32m   3025\u001b[0m \u001b[1;33m\u001b[0m\u001b[0m\n",
      "\u001b[1;32m~\\anaconda3\\envs\\tensorflow\\lib\\site-packages\\tensorflow\\python\\eager\\function.py\u001b[0m in \u001b[0;36m_call_flat\u001b[1;34m(self, args, captured_inputs, cancellation_manager)\u001b[0m\n\u001b[0;32m   1958\u001b[0m         and executing_eagerly):\n\u001b[0;32m   1959\u001b[0m       \u001b[1;31m# No tape is watching; skip to running the function.\u001b[0m\u001b[1;33m\u001b[0m\u001b[1;33m\u001b[0m\u001b[1;33m\u001b[0m\u001b[0m\n\u001b[1;32m-> 1960\u001b[1;33m       return self._build_call_outputs(self._inference_function.call(\n\u001b[0m\u001b[0;32m   1961\u001b[0m           ctx, args, cancellation_manager=cancellation_manager))\n\u001b[0;32m   1962\u001b[0m     forward_backward = self._select_forward_and_backward_functions(\n",
      "\u001b[1;32m~\\anaconda3\\envs\\tensorflow\\lib\\site-packages\\tensorflow\\python\\eager\\function.py\u001b[0m in \u001b[0;36mcall\u001b[1;34m(self, ctx, args, cancellation_manager)\u001b[0m\n\u001b[0;32m    589\u001b[0m       \u001b[1;32mwith\u001b[0m \u001b[0m_InterpolateFunctionError\u001b[0m\u001b[1;33m(\u001b[0m\u001b[0mself\u001b[0m\u001b[1;33m)\u001b[0m\u001b[1;33m:\u001b[0m\u001b[1;33m\u001b[0m\u001b[1;33m\u001b[0m\u001b[0m\n\u001b[0;32m    590\u001b[0m         \u001b[1;32mif\u001b[0m \u001b[0mcancellation_manager\u001b[0m \u001b[1;32mis\u001b[0m \u001b[1;32mNone\u001b[0m\u001b[1;33m:\u001b[0m\u001b[1;33m\u001b[0m\u001b[1;33m\u001b[0m\u001b[0m\n\u001b[1;32m--> 591\u001b[1;33m           outputs = execute.execute(\n\u001b[0m\u001b[0;32m    592\u001b[0m               \u001b[0mstr\u001b[0m\u001b[1;33m(\u001b[0m\u001b[0mself\u001b[0m\u001b[1;33m.\u001b[0m\u001b[0msignature\u001b[0m\u001b[1;33m.\u001b[0m\u001b[0mname\u001b[0m\u001b[1;33m)\u001b[0m\u001b[1;33m,\u001b[0m\u001b[1;33m\u001b[0m\u001b[1;33m\u001b[0m\u001b[0m\n\u001b[0;32m    593\u001b[0m               \u001b[0mnum_outputs\u001b[0m\u001b[1;33m=\u001b[0m\u001b[0mself\u001b[0m\u001b[1;33m.\u001b[0m\u001b[0m_num_outputs\u001b[0m\u001b[1;33m,\u001b[0m\u001b[1;33m\u001b[0m\u001b[1;33m\u001b[0m\u001b[0m\n",
      "\u001b[1;32m~\\anaconda3\\envs\\tensorflow\\lib\\site-packages\\tensorflow\\python\\eager\\execute.py\u001b[0m in \u001b[0;36mquick_execute\u001b[1;34m(op_name, num_outputs, inputs, attrs, ctx, name)\u001b[0m\n\u001b[0;32m     57\u001b[0m   \u001b[1;32mtry\u001b[0m\u001b[1;33m:\u001b[0m\u001b[1;33m\u001b[0m\u001b[1;33m\u001b[0m\u001b[0m\n\u001b[0;32m     58\u001b[0m     \u001b[0mctx\u001b[0m\u001b[1;33m.\u001b[0m\u001b[0mensure_initialized\u001b[0m\u001b[1;33m(\u001b[0m\u001b[1;33m)\u001b[0m\u001b[1;33m\u001b[0m\u001b[1;33m\u001b[0m\u001b[0m\n\u001b[1;32m---> 59\u001b[1;33m     tensors = pywrap_tfe.TFE_Py_Execute(ctx._handle, device_name, op_name,\n\u001b[0m\u001b[0;32m     60\u001b[0m                                         inputs, attrs, num_outputs)\n\u001b[0;32m     61\u001b[0m   \u001b[1;32mexcept\u001b[0m \u001b[0mcore\u001b[0m\u001b[1;33m.\u001b[0m\u001b[0m_NotOkStatusException\u001b[0m \u001b[1;32mas\u001b[0m \u001b[0me\u001b[0m\u001b[1;33m:\u001b[0m\u001b[1;33m\u001b[0m\u001b[1;33m\u001b[0m\u001b[0m\n",
      "\u001b[1;31mKeyboardInterrupt\u001b[0m: "
     ]
    }
   ],
   "source": [
    "#train the autoencoder\n",
    "autoencoder.fit(x_train, x_train, epochs=500,validation_data=(x_test, x_test))"
   ]
  },
  {
   "cell_type": "markdown",
   "id": "f458ce20",
   "metadata": {},
   "source": [
    "### Testing"
   ]
  },
  {
   "cell_type": "code",
   "execution_count": null,
   "id": "f4e291e8",
   "metadata": {},
   "outputs": [],
   "source": [
    "input_images = x_test[0,10]\n",
    "denoised = autoencoder(x_test[0:10])"
   ]
  },
  {
   "cell_type": "code",
   "execution_count": null,
   "id": "70dd556c",
   "metadata": {},
   "outputs": [],
   "source": [
    "n=3\n",
    "\n",
    "print(\"Input\")\n",
    "plt.imshow(x_test[n], cmap=\"gray\")\n",
    "plt.show()\n",
    "print(\"Output\")\n",
    "plt.imshow(denoised[n], cmap=\"gray\")\n",
    "plt.show()"
   ]
  },
  {
   "cell_type": "code",
   "execution_count": null,
   "id": "cb8cbb40",
   "metadata": {},
   "outputs": [],
   "source": [
    "metrics = pd.DataFrame(autoencoder.history.history)"
   ]
  },
  {
   "cell_type": "code",
   "execution_count": null,
   "id": "6762cccf",
   "metadata": {},
   "outputs": [],
   "source": [
    "metrics[['accuracy','val_accuracy']].plot(figsize=(14,8))\n",
    "plt.title(\"Accuracy History\")\n",
    "plt.xlabel(\"Epochs\")\n",
    "plt.ylabel(\"Accuracy\")"
   ]
  },
  {
   "cell_type": "code",
   "execution_count": null,
   "id": "8af5b66a",
   "metadata": {},
   "outputs": [],
   "source": [
    "metrics[['loss','val_loss']].plot(figsize=(14,8))\n",
    "plt.title(\"Loss History\")\n",
    "plt.xlabel(\"Epochs\")\n",
    "plt.ylabel(\"Accuracy\")\n",
    "plt.ylim((0,3))"
   ]
  },
  {
   "cell_type": "code",
   "execution_count": null,
   "id": "0f866b89",
   "metadata": {},
   "outputs": [],
   "source": [
    "autoencoder.summary()"
   ]
  },
  {
   "cell_type": "code",
   "execution_count": null,
   "id": "8d0ecb68",
   "metadata": {},
   "outputs": [],
   "source": [
    "autoencoder.save(\"Denoiser.h5\")"
   ]
  },
  {
   "cell_type": "code",
   "execution_count": null,
   "id": "6dc8759d",
   "metadata": {},
   "outputs": [],
   "source": [
    "autoencoder = tf.keras.models.load_model(\"Denoiser.h5\")"
   ]
  },
  {
   "cell_type": "code",
   "execution_count": 26,
   "id": "ace5b5b0",
   "metadata": {},
   "outputs": [],
   "source": [
    "metrics = pd.DataFrame(autoencoder.history.history)"
   ]
  },
  {
   "cell_type": "code",
   "execution_count": 27,
   "id": "6ef6415c",
   "metadata": {},
   "outputs": [
    {
     "data": {
      "text/html": [
       "<div>\n",
       "<style scoped>\n",
       "    .dataframe tbody tr th:only-of-type {\n",
       "        vertical-align: middle;\n",
       "    }\n",
       "\n",
       "    .dataframe tbody tr th {\n",
       "        vertical-align: top;\n",
       "    }\n",
       "\n",
       "    .dataframe thead th {\n",
       "        text-align: right;\n",
       "    }\n",
       "</style>\n",
       "<table border=\"1\" class=\"dataframe\">\n",
       "  <thead>\n",
       "    <tr style=\"text-align: right;\">\n",
       "      <th></th>\n",
       "      <th>loss</th>\n",
       "      <th>accuracy</th>\n",
       "      <th>val_loss</th>\n",
       "      <th>val_accuracy</th>\n",
       "    </tr>\n",
       "  </thead>\n",
       "  <tbody>\n",
       "    <tr>\n",
       "      <th>0</th>\n",
       "      <td>0.681630</td>\n",
       "      <td>0.003906</td>\n",
       "      <td>0.682938</td>\n",
       "      <td>0.004167</td>\n",
       "    </tr>\n",
       "    <tr>\n",
       "      <th>1</th>\n",
       "      <td>0.676444</td>\n",
       "      <td>0.004461</td>\n",
       "      <td>0.680344</td>\n",
       "      <td>0.003472</td>\n",
       "    </tr>\n",
       "    <tr>\n",
       "      <th>2</th>\n",
       "      <td>0.674076</td>\n",
       "      <td>0.003867</td>\n",
       "      <td>0.680079</td>\n",
       "      <td>0.004028</td>\n",
       "    </tr>\n",
       "    <tr>\n",
       "      <th>3</th>\n",
       "      <td>0.672520</td>\n",
       "      <td>0.004617</td>\n",
       "      <td>0.675195</td>\n",
       "      <td>0.003958</td>\n",
       "    </tr>\n",
       "    <tr>\n",
       "      <th>4</th>\n",
       "      <td>0.662904</td>\n",
       "      <td>0.004972</td>\n",
       "      <td>0.669886</td>\n",
       "      <td>0.008056</td>\n",
       "    </tr>\n",
       "    <tr>\n",
       "      <th>5</th>\n",
       "      <td>0.641688</td>\n",
       "      <td>0.006644</td>\n",
       "      <td>0.648707</td>\n",
       "      <td>0.007361</td>\n",
       "    </tr>\n",
       "    <tr>\n",
       "      <th>6</th>\n",
       "      <td>0.622109</td>\n",
       "      <td>0.008478</td>\n",
       "      <td>0.642312</td>\n",
       "      <td>0.008889</td>\n",
       "    </tr>\n",
       "    <tr>\n",
       "      <th>7</th>\n",
       "      <td>0.616367</td>\n",
       "      <td>0.008617</td>\n",
       "      <td>0.628330</td>\n",
       "      <td>0.010625</td>\n",
       "    </tr>\n",
       "    <tr>\n",
       "      <th>8</th>\n",
       "      <td>0.609360</td>\n",
       "      <td>0.009772</td>\n",
       "      <td>0.622791</td>\n",
       "      <td>0.011597</td>\n",
       "    </tr>\n",
       "    <tr>\n",
       "      <th>9</th>\n",
       "      <td>0.603902</td>\n",
       "      <td>0.012689</td>\n",
       "      <td>0.619730</td>\n",
       "      <td>0.013958</td>\n",
       "    </tr>\n",
       "    <tr>\n",
       "      <th>10</th>\n",
       "      <td>0.602698</td>\n",
       "      <td>0.012767</td>\n",
       "      <td>0.622610</td>\n",
       "      <td>0.014444</td>\n",
       "    </tr>\n",
       "    <tr>\n",
       "      <th>11</th>\n",
       "      <td>0.603469</td>\n",
       "      <td>0.013467</td>\n",
       "      <td>0.618679</td>\n",
       "      <td>0.017153</td>\n",
       "    </tr>\n",
       "    <tr>\n",
       "      <th>12</th>\n",
       "      <td>0.600489</td>\n",
       "      <td>0.013628</td>\n",
       "      <td>0.619281</td>\n",
       "      <td>0.012639</td>\n",
       "    </tr>\n",
       "    <tr>\n",
       "      <th>13</th>\n",
       "      <td>0.600098</td>\n",
       "      <td>0.015072</td>\n",
       "      <td>0.617211</td>\n",
       "      <td>0.015000</td>\n",
       "    </tr>\n",
       "    <tr>\n",
       "      <th>14</th>\n",
       "      <td>0.598714</td>\n",
       "      <td>0.015472</td>\n",
       "      <td>0.617894</td>\n",
       "      <td>0.017014</td>\n",
       "    </tr>\n",
       "    <tr>\n",
       "      <th>15</th>\n",
       "      <td>0.597516</td>\n",
       "      <td>0.015572</td>\n",
       "      <td>0.616649</td>\n",
       "      <td>0.018125</td>\n",
       "    </tr>\n",
       "    <tr>\n",
       "      <th>16</th>\n",
       "      <td>0.596385</td>\n",
       "      <td>0.016361</td>\n",
       "      <td>0.618306</td>\n",
       "      <td>0.019792</td>\n",
       "    </tr>\n",
       "    <tr>\n",
       "      <th>17</th>\n",
       "      <td>0.596915</td>\n",
       "      <td>0.016889</td>\n",
       "      <td>0.615669</td>\n",
       "      <td>0.015139</td>\n",
       "    </tr>\n",
       "    <tr>\n",
       "      <th>18</th>\n",
       "      <td>0.595479</td>\n",
       "      <td>0.016906</td>\n",
       "      <td>0.615046</td>\n",
       "      <td>0.015486</td>\n",
       "    </tr>\n",
       "    <tr>\n",
       "      <th>19</th>\n",
       "      <td>0.594373</td>\n",
       "      <td>0.017094</td>\n",
       "      <td>0.625080</td>\n",
       "      <td>0.013403</td>\n",
       "    </tr>\n",
       "    <tr>\n",
       "      <th>20</th>\n",
       "      <td>0.597431</td>\n",
       "      <td>0.015567</td>\n",
       "      <td>0.616208</td>\n",
       "      <td>0.017500</td>\n",
       "    </tr>\n",
       "    <tr>\n",
       "      <th>21</th>\n",
       "      <td>0.593689</td>\n",
       "      <td>0.017067</td>\n",
       "      <td>0.615542</td>\n",
       "      <td>0.014792</td>\n",
       "    </tr>\n",
       "    <tr>\n",
       "      <th>22</th>\n",
       "      <td>0.592330</td>\n",
       "      <td>0.017583</td>\n",
       "      <td>0.614066</td>\n",
       "      <td>0.016389</td>\n",
       "    </tr>\n",
       "    <tr>\n",
       "      <th>23</th>\n",
       "      <td>0.592127</td>\n",
       "      <td>0.017683</td>\n",
       "      <td>0.614361</td>\n",
       "      <td>0.014097</td>\n",
       "    </tr>\n",
       "    <tr>\n",
       "      <th>24</th>\n",
       "      <td>0.592181</td>\n",
       "      <td>0.016744</td>\n",
       "      <td>0.612758</td>\n",
       "      <td>0.017639</td>\n",
       "    </tr>\n",
       "    <tr>\n",
       "      <th>25</th>\n",
       "      <td>0.589216</td>\n",
       "      <td>0.018533</td>\n",
       "      <td>0.614140</td>\n",
       "      <td>0.011528</td>\n",
       "    </tr>\n",
       "    <tr>\n",
       "      <th>26</th>\n",
       "      <td>0.589488</td>\n",
       "      <td>0.018100</td>\n",
       "      <td>0.612104</td>\n",
       "      <td>0.017083</td>\n",
       "    </tr>\n",
       "    <tr>\n",
       "      <th>27</th>\n",
       "      <td>0.588338</td>\n",
       "      <td>0.018644</td>\n",
       "      <td>0.608821</td>\n",
       "      <td>0.017222</td>\n",
       "    </tr>\n",
       "    <tr>\n",
       "      <th>28</th>\n",
       "      <td>0.586201</td>\n",
       "      <td>0.019439</td>\n",
       "      <td>0.609938</td>\n",
       "      <td>0.017431</td>\n",
       "    </tr>\n",
       "    <tr>\n",
       "      <th>29</th>\n",
       "      <td>0.585132</td>\n",
       "      <td>0.020200</td>\n",
       "      <td>0.619920</td>\n",
       "      <td>0.013194</td>\n",
       "    </tr>\n",
       "    <tr>\n",
       "      <th>30</th>\n",
       "      <td>0.588547</td>\n",
       "      <td>0.019817</td>\n",
       "      <td>0.611634</td>\n",
       "      <td>0.016181</td>\n",
       "    </tr>\n",
       "    <tr>\n",
       "      <th>31</th>\n",
       "      <td>0.584437</td>\n",
       "      <td>0.020217</td>\n",
       "      <td>0.606791</td>\n",
       "      <td>0.018194</td>\n",
       "    </tr>\n",
       "    <tr>\n",
       "      <th>32</th>\n",
       "      <td>0.583911</td>\n",
       "      <td>0.020483</td>\n",
       "      <td>0.612952</td>\n",
       "      <td>0.015694</td>\n",
       "    </tr>\n",
       "    <tr>\n",
       "      <th>33</th>\n",
       "      <td>0.584251</td>\n",
       "      <td>0.020894</td>\n",
       "      <td>0.608976</td>\n",
       "      <td>0.015000</td>\n",
       "    </tr>\n",
       "  </tbody>\n",
       "</table>\n",
       "</div>"
      ],
      "text/plain": [
       "        loss  accuracy  val_loss  val_accuracy\n",
       "0   0.681630  0.003906  0.682938      0.004167\n",
       "1   0.676444  0.004461  0.680344      0.003472\n",
       "2   0.674076  0.003867  0.680079      0.004028\n",
       "3   0.672520  0.004617  0.675195      0.003958\n",
       "4   0.662904  0.004972  0.669886      0.008056\n",
       "5   0.641688  0.006644  0.648707      0.007361\n",
       "6   0.622109  0.008478  0.642312      0.008889\n",
       "7   0.616367  0.008617  0.628330      0.010625\n",
       "8   0.609360  0.009772  0.622791      0.011597\n",
       "9   0.603902  0.012689  0.619730      0.013958\n",
       "10  0.602698  0.012767  0.622610      0.014444\n",
       "11  0.603469  0.013467  0.618679      0.017153\n",
       "12  0.600489  0.013628  0.619281      0.012639\n",
       "13  0.600098  0.015072  0.617211      0.015000\n",
       "14  0.598714  0.015472  0.617894      0.017014\n",
       "15  0.597516  0.015572  0.616649      0.018125\n",
       "16  0.596385  0.016361  0.618306      0.019792\n",
       "17  0.596915  0.016889  0.615669      0.015139\n",
       "18  0.595479  0.016906  0.615046      0.015486\n",
       "19  0.594373  0.017094  0.625080      0.013403\n",
       "20  0.597431  0.015567  0.616208      0.017500\n",
       "21  0.593689  0.017067  0.615542      0.014792\n",
       "22  0.592330  0.017583  0.614066      0.016389\n",
       "23  0.592127  0.017683  0.614361      0.014097\n",
       "24  0.592181  0.016744  0.612758      0.017639\n",
       "25  0.589216  0.018533  0.614140      0.011528\n",
       "26  0.589488  0.018100  0.612104      0.017083\n",
       "27  0.588338  0.018644  0.608821      0.017222\n",
       "28  0.586201  0.019439  0.609938      0.017431\n",
       "29  0.585132  0.020200  0.619920      0.013194\n",
       "30  0.588547  0.019817  0.611634      0.016181\n",
       "31  0.584437  0.020217  0.606791      0.018194\n",
       "32  0.583911  0.020483  0.612952      0.015694\n",
       "33  0.584251  0.020894  0.608976      0.015000"
      ]
     },
     "execution_count": 27,
     "metadata": {},
     "output_type": "execute_result"
    }
   ],
   "source": [
    "metrics"
   ]
  },
  {
   "cell_type": "code",
   "execution_count": 33,
   "id": "105f29ae",
   "metadata": {},
   "outputs": [
    {
     "data": {
      "text/plain": [
       "(0.5, 0.7)"
      ]
     },
     "execution_count": 33,
     "metadata": {},
     "output_type": "execute_result"
    },
    {
     "data": {
      "image/png": "[encoded data removed]",
      "text/plain": [
       "<Figure size 576x504 with 1 Axes>"
      ]
     },
     "metadata": {},
     "output_type": "display_data"
    }
   ],
   "source": [
    "metrics[['loss','val_loss']].plot()\n",
    "plt.title(\"Loss History\")\n",
    "plt.xlabel(\"Epochs\")\n",
    "plt.ylabel(\"Loss\")\n",
    "plt.ylim((0.5, 0.7))"
   ]
  },
  {
   "cell_type": "code",
   "execution_count": null,
   "id": "8014d537",
   "metadata": {},
   "outputs": [],
   "source": []
  }
 ],
 "metadata": {
  "kernelspec": {
   "display_name": "Python 3",
   "language": "python",
   "name": "python3"
  },
  "language_info": {
   "codemirror_mode": {
    "name": "ipython",
    "version": 3
   },
   "file_extension": ".py",
   "mimetype": "text/x-python",
   "name": "python",
   "nbconvert_exporter": "python",
   "pygments_lexer": "ipython3",
   "version": "3.8.10"
  }
 },
 "nbformat": 4,
 "nbformat_minor": 5
}

{
 "cells": [
  {
   "cell_type": "code",
   "execution_count": 1,
   "id": "1762d9f5",
   "metadata": {},
   "outputs": [],
   "source": [
    "%matplotlib inline\n",
    "import os\n",
    "import cv2\n",
    "import numpy as np\n",
    "import pandas as pd\n",
    "import seaborn as sns\n",
    "import matplotlib.pyplot as plt\n",
    "from matplotlib.image import imread\n",
    "from tensorflow.keras.preprocessing.image import ImageDataGenerator\n",
    "from jupyterthemes import jtplot #for making plots appear with same theme\n",
    "jtplot.style(theme='chesterish', context='notebook', ticks=True, grid=False)"
   ]
  },
  {
   "cell_type": "markdown",
   "id": "0b7b7386",
   "metadata": {},
   "source": [
    "## Data Preprocessing"
   ]
  },
  {
   "cell_type": "code",
   "execution_count": 2,
   "id": "da7b4ceb",
   "metadata": {},
   "outputs": [
    {
     "data": {
      "text/plain": [
       "['gen_test', 'gen_train', 'test', 'Thumbs.db', 'train', 'valid']"
      ]
     },
     "execution_count": 2,
     "metadata": {},
     "output_type": "execute_result"
    }
   ],
   "source": [
    "#indicate dataset path\n",
    "data_dir = \"C:\\\\Users\\\\kmens\\Desktop\\\\Fourth Year\\\\4ML3\\\\Project\\\\archive\\\\NEU Metal Surface Defects Data\"\n",
    "os.listdir(data_dir)"
   ]
  },
  {
   "cell_type": "code",
   "execution_count": 3,
   "id": "5685c162",
   "metadata": {},
   "outputs": [],
   "source": [
    "#test & train paths\n",
    "test_path = data_dir+'\\\\test\\\\'\n",
    "train_path = data_dir+'\\\\train\\\\'"
   ]
  },
  {
   "cell_type": "code",
   "execution_count": 4,
   "id": "235b85a0",
   "metadata": {},
   "outputs": [
    {
     "data": {
      "text/plain": [
       "['Crazing', 'Inclusion', 'Patches', 'Pitted', 'Rolled', 'Scratches']"
      ]
     },
     "execution_count": 4,
     "metadata": {},
     "output_type": "execute_result"
    }
   ],
   "source": [
    "#view folders in test path\n",
    "os.listdir(test_path)"
   ]
  },
  {
   "cell_type": "code",
   "execution_count": 5,
   "id": "3f86debc",
   "metadata": {},
   "outputs": [
    {
     "data": {
      "text/plain": [
       "(200, 200, 1)"
      ]
     },
     "execution_count": 5,
     "metadata": {},
     "output_type": "execute_result"
    }
   ],
   "source": [
    "#pick a random image \n",
    "random_inclusion = train_path + \"Inclusion\\\\\" + os.listdir(train_path+\"Inclusion\")[0]\n",
    "random_inclusion = np.expand_dims(imread(random_inclusion), axis=-1)\n",
    "#Images must be read as (200,200,1) shape\n",
    "#check shape\n",
    "random_inclusion.shape"
   ]
  },
  {
   "cell_type": "code",
   "execution_count": 6,
   "id": "941abb80",
   "metadata": {},
   "outputs": [
    {
     "data": {
      "text/plain": [
       "'C:\\\\Users\\\\kmens\\\\Desktop\\\\Fourth Year\\\\4ML3\\\\Project\\\\archive\\\\NEU Metal Surface Defects Data\\\\train\\\\Inclusion\\\\In_120.bmp'"
      ]
     },
     "execution_count": 6,
     "metadata": {},
     "output_type": "execute_result"
    }
   ],
   "source": [
    "train_path + \"Inclusion\\\\\" + os.listdir(train_path+\"Inclusion\")[0]"
   ]
  },
  {
   "cell_type": "code",
   "execution_count": 7,
   "id": "1c12a2a9",
   "metadata": {},
   "outputs": [],
   "source": [
    "cv2.imshow('sample input', random_inclusion)\n",
    "cv2.waitKey(0)\n",
    "cv2.destroyAllWindows()"
   ]
  },
  {
   "cell_type": "code",
   "execution_count": 8,
   "id": "ba28632f",
   "metadata": {},
   "outputs": [],
   "source": [
    "img_shape = (200,200,1)"
   ]
  },
  {
   "cell_type": "code",
   "execution_count": 9,
   "id": "03b110c6",
   "metadata": {},
   "outputs": [],
   "source": [
    "#initialize image transformer\n",
    "data_gen = ImageDataGenerator(rotation_range=15, width_shift_range=0.05, height_shift_range=0.05,\n",
    "                              shear_range = 0.1, horizontal_flip=True,vertical_flip=True, \n",
    "                              fill_mode = 'constant')"
   ]
  },
  {
   "cell_type": "code",
   "execution_count": 10,
   "id": "b3c60b2a",
   "metadata": {},
   "outputs": [],
   "source": [
    "cv2.imshow(\"transformed img\", data_gen.random_transform(random_inclusion))\n",
    "cv2.waitKey(0)\n",
    "cv2.destroyAllWindows()"
   ]
  },
  {
   "cell_type": "code",
   "execution_count": 11,
   "id": "6269fd0c",
   "metadata": {},
   "outputs": [],
   "source": [
    "#plt.imshow with \"gray\" brightens grayscale images too much\n",
    "#cv2.imshow shows real colors"
   ]
  },
  {
   "cell_type": "code",
   "execution_count": 12,
   "id": "752c3629",
   "metadata": {},
   "outputs": [
    {
     "name": "stdout",
     "output_type": "stream",
     "text": [
      "Found 1656 images belonging to 6 classes.\n"
     ]
    }
   ],
   "source": [
    "#train directory with image transformer\n",
    "train_gen = data_gen.flow_from_directory(train_path,\n",
    "                                         target_size=(200,200),\n",
    "                                         color_mode=\"grayscale\",\n",
    "                                         class_mode=\"categorical\",\n",
    "                                         batch_size=32,\n",
    "                                         shuffle=True)"
   ]
  },
  {
   "cell_type": "code",
   "execution_count": 13,
   "id": "135e2366",
   "metadata": {},
   "outputs": [
    {
     "name": "stdout",
     "output_type": "stream",
     "text": [
      "Found 72 images belonging to 6 classes.\n"
     ]
    }
   ],
   "source": [
    "#test directory with image transformer\n",
    "test_gen = data_gen.flow_from_directory(test_path,\n",
    "                                        target_size=(200,200),\n",
    "                                        color_mode=\"grayscale\",\n",
    "                                        class_mode=\"categorical\",\n",
    "                                        batch_size=32,\n",
    "                                        shuffle=False)"
   ]
  },
  {
   "cell_type": "code",
   "execution_count": 14,
   "id": "da9140be",
   "metadata": {},
   "outputs": [
    {
     "data": {
      "text/plain": [
       "{'Crazing': 0,\n",
       " 'Inclusion': 1,\n",
       " 'Patches': 2,\n",
       " 'Pitted': 3,\n",
       " 'Rolled': 4,\n",
       " 'Scratches': 5}"
      ]
     },
     "execution_count": 14,
     "metadata": {},
     "output_type": "execute_result"
    }
   ],
   "source": [
    "#one-hot encoded classes\n",
    "train_gen.class_indices"
   ]
  },
  {
   "cell_type": "code",
   "execution_count": null,
   "id": "be304952",
   "metadata": {},
   "outputs": [],
   "source": []
  },
  {
   "cell_type": "markdown",
   "id": "79de744a",
   "metadata": {},
   "source": [
    "## Neural Network"
   ]
  },
  {
   "cell_type": "code",
   "execution_count": 15,
   "id": "36abbc34",
   "metadata": {},
   "outputs": [],
   "source": [
    "from tensorflow.keras.models import Sequential\n",
    "from tensorflow.keras.callbacks import EarlyStopping\n",
    "from tensorflow.keras.layers import Conv2D, MaxPool2D, Flatten, Dense, Dropout"
   ]
  },
  {
   "cell_type": "code",
   "execution_count": 16,
   "id": "48e1f8d8",
   "metadata": {},
   "outputs": [],
   "source": [
    "#initialize network\n",
    "network = Sequential()\n",
    "\n",
    "#Convolution and Pooling layers\n",
    "network.add(Conv2D(filters=32, kernel_size=(3,3), input_shape=img_shape, activation=\"relu\"))\n",
    "network.add(MaxPool2D(pool_size=(2,2)))\n",
    "network.add(Conv2D(filters=32, kernel_size=(3,3), activation=\"relu\"))\n",
    "network.add(MaxPool2D(pool_size=(2,2)))\n",
    "network.add(Conv2D(filters=32, kernel_size=(3,3), activation=\"relu\"))\n",
    "network.add(MaxPool2D(pool_size=(2,2)))\n",
    "network.add(Conv2D(filters=32, kernel_size=(3,3), activation=\"relu\"))\n",
    "network.add(MaxPool2D(pool_size=(2,2)))\n",
    "\n",
    "#expand output into a 1D vector\n",
    "network.add(Flatten())\n",
    "network.add(Dense(units=256, activation='relu'))\n",
    "\n",
    "#randomly turn off neurons in Dense layer\n",
    "network.add(Dropout(0.25))\n",
    "\n",
    "#prediction output layer with 6 neurons, one for each class\n",
    "network.add(Dense(units=6, activation='softmax'))\n",
    "network.compile(loss='categorical_crossentropy', optimizer = 'adam', metrics=['accuracy'])"
   ]
  },
  {
   "cell_type": "code",
   "execution_count": 17,
   "id": "97980ce6",
   "metadata": {},
   "outputs": [
    {
     "name": "stdout",
     "output_type": "stream",
     "text": [
      "Model: \"sequential\"\n",
      "_________________________________________________________________\n",
      "Layer (type)                 Output Shape              Param #   \n",
      "=================================================================\n",
      "conv2d (Conv2D)              (None, 198, 198, 32)      320       \n",
      "_________________________________________________________________\n",
      "max_pooling2d (MaxPooling2D) (None, 99, 99, 32)        0         \n",
      "_________________________________________________________________\n",
      "conv2d_1 (Conv2D)            (None, 97, 97, 32)        9248      \n",
      "_________________________________________________________________\n",
      "max_pooling2d_1 (MaxPooling2 (None, 48, 48, 32)        0         \n",
      "_________________________________________________________________\n",
      "conv2d_2 (Conv2D)            (None, 46, 46, 32)        9248      \n",
      "_________________________________________________________________\n",
      "max_pooling2d_2 (MaxPooling2 (None, 23, 23, 32)        0         \n",
      "_________________________________________________________________\n",
      "conv2d_3 (Conv2D)            (None, 21, 21, 32)        9248      \n",
      "_________________________________________________________________\n",
      "max_pooling2d_3 (MaxPooling2 (None, 10, 10, 32)        0         \n",
      "_________________________________________________________________\n",
      "flatten (Flatten)            (None, 3200)              0         \n",
      "_________________________________________________________________\n",
      "dense (Dense)                (None, 256)               819456    \n",
      "_________________________________________________________________\n",
      "dropout (Dropout)            (None, 256)               0         \n",
      "_________________________________________________________________\n",
      "dense_1 (Dense)              (None, 6)                 1542      \n",
      "=================================================================\n",
      "Total params: 849,062\n",
      "Trainable params: 849,062\n",
      "Non-trainable params: 0\n",
      "_________________________________________________________________\n"
     ]
    }
   ],
   "source": [
    "#network shapes and parameters\n",
    "network.summary()"
   ]
  },
  {
   "cell_type": "code",
   "execution_count": 18,
   "id": "b6ac86fc",
   "metadata": {},
   "outputs": [],
   "source": [
    "#stop training when validation loss increases for 10 epochs\n",
    "early_stop = EarlyStopping(monitor='val_loss', patience=10)"
   ]
  },
  {
   "cell_type": "markdown",
   "id": "5808e21a",
   "metadata": {},
   "source": [
    "## Results"
   ]
  },
  {
   "cell_type": "code",
   "execution_count": 19,
   "id": "a6e08cd9",
   "metadata": {
    "scrolled": true
   },
   "outputs": [
    {
     "name": "stdout",
     "output_type": "stream",
     "text": [
      "Epoch 1/100\n",
      "52/52 [==============================] - 9s 108ms/step - loss: 4.5094 - accuracy: 0.3007 - val_loss: 1.9589 - val_accuracy: 0.2778\n",
      "Epoch 2/100\n",
      "52/52 [==============================] - 4s 79ms/step - loss: 1.6573 - accuracy: 0.2941 - val_loss: 1.4967 - val_accuracy: 0.3472\n",
      "Epoch 3/100\n",
      "52/52 [==============================] - 4s 77ms/step - loss: 1.3698 - accuracy: 0.3919 - val_loss: 1.1856 - val_accuracy: 0.5000\n",
      "Epoch 4/100\n",
      "52/52 [==============================] - 4s 77ms/step - loss: 1.2230 - accuracy: 0.4614 - val_loss: 1.0626 - val_accuracy: 0.4722\n",
      "Epoch 5/100\n",
      "52/52 [==============================] - 4s 77ms/step - loss: 1.2235 - accuracy: 0.4565 - val_loss: 1.1630 - val_accuracy: 0.4583\n",
      "Epoch 6/100\n",
      "52/52 [==============================] - 4s 77ms/step - loss: 1.1847 - accuracy: 0.4777 - val_loss: 0.9627 - val_accuracy: 0.6389\n",
      "Epoch 7/100\n",
      "52/52 [==============================] - 4s 77ms/step - loss: 1.0740 - accuracy: 0.5344 - val_loss: 1.0677 - val_accuracy: 0.5278\n",
      "Epoch 8/100\n",
      "52/52 [==============================] - 4s 78ms/step - loss: 1.0050 - accuracy: 0.5628 - val_loss: 0.8187 - val_accuracy: 0.6944\n",
      "Epoch 9/100\n",
      "52/52 [==============================] - 4s 79ms/step - loss: 0.9116 - accuracy: 0.6226 - val_loss: 0.7148 - val_accuracy: 0.7639\n",
      "Epoch 10/100\n",
      "52/52 [==============================] - 4s 79ms/step - loss: 0.8370 - accuracy: 0.6558 - val_loss: 0.9912 - val_accuracy: 0.5556\n",
      "Epoch 11/100\n",
      "52/52 [==============================] - 4s 78ms/step - loss: 0.8425 - accuracy: 0.6594 - val_loss: 0.6948 - val_accuracy: 0.7222\n",
      "Epoch 12/100\n",
      "52/52 [==============================] - 4s 77ms/step - loss: 0.7557 - accuracy: 0.6999 - val_loss: 0.8359 - val_accuracy: 0.6250\n",
      "Epoch 13/100\n",
      "52/52 [==============================] - 4s 77ms/step - loss: 0.7540 - accuracy: 0.6950 - val_loss: 0.7074 - val_accuracy: 0.7222\n",
      "Epoch 14/100\n",
      "52/52 [==============================] - 4s 77ms/step - loss: 0.6678 - accuracy: 0.7554 - val_loss: 0.5531 - val_accuracy: 0.7639\n",
      "Epoch 15/100\n",
      "52/52 [==============================] - 4s 84ms/step - loss: 0.5942 - accuracy: 0.7729 - val_loss: 0.4599 - val_accuracy: 0.8056\n",
      "Epoch 16/100\n",
      "52/52 [==============================] - 4s 83ms/step - loss: 0.6311 - accuracy: 0.7603 - val_loss: 0.5379 - val_accuracy: 0.7778\n",
      "Epoch 17/100\n",
      "52/52 [==============================] - 5s 95ms/step - loss: 0.6647 - accuracy: 0.7216 - val_loss: 0.4506 - val_accuracy: 0.8333\n",
      "Epoch 18/100\n",
      "52/52 [==============================] - 4s 83ms/step - loss: 0.6436 - accuracy: 0.7548 - val_loss: 0.4845 - val_accuracy: 0.8194\n",
      "Epoch 19/100\n",
      "52/52 [==============================] - 4s 83ms/step - loss: 0.5692 - accuracy: 0.7699 - val_loss: 0.4008 - val_accuracy: 0.8611\n",
      "Epoch 20/100\n",
      "52/52 [==============================] - 4s 81ms/step - loss: 0.4905 - accuracy: 0.8231 - val_loss: 0.5262 - val_accuracy: 0.8056\n",
      "Epoch 21/100\n",
      "52/52 [==============================] - 4s 84ms/step - loss: 0.4407 - accuracy: 0.8321 - val_loss: 0.3819 - val_accuracy: 0.8750\n",
      "Epoch 22/100\n",
      "52/52 [==============================] - 4s 81ms/step - loss: 0.4284 - accuracy: 0.8297 - val_loss: 0.4940 - val_accuracy: 0.7778\n",
      "Epoch 23/100\n",
      "52/52 [==============================] - 4s 84ms/step - loss: 0.4208 - accuracy: 0.8394 - val_loss: 0.4750 - val_accuracy: 0.8056\n",
      "Epoch 24/100\n",
      "52/52 [==============================] - 5s 92ms/step - loss: 0.4512 - accuracy: 0.8303 - val_loss: 0.4643 - val_accuracy: 0.8194\n",
      "Epoch 25/100\n",
      "52/52 [==============================] - 4s 82ms/step - loss: 0.3775 - accuracy: 0.8490 - val_loss: 0.3285 - val_accuracy: 0.8750\n",
      "Epoch 26/100\n",
      "52/52 [==============================] - 4s 81ms/step - loss: 0.3100 - accuracy: 0.8816 - val_loss: 0.3785 - val_accuracy: 0.8333\n",
      "Epoch 27/100\n",
      "52/52 [==============================] - 4s 81ms/step - loss: 0.3009 - accuracy: 0.8756 - val_loss: 0.6082 - val_accuracy: 0.7917\n",
      "Epoch 28/100\n",
      "52/52 [==============================] - 4s 81ms/step - loss: 0.3124 - accuracy: 0.8816 - val_loss: 0.3267 - val_accuracy: 0.8750\n",
      "Epoch 29/100\n",
      "52/52 [==============================] - 4s 82ms/step - loss: 0.3408 - accuracy: 0.8750 - val_loss: 0.3122 - val_accuracy: 0.8333\n",
      "Epoch 30/100\n",
      "52/52 [==============================] - 4s 85ms/step - loss: 0.3399 - accuracy: 0.8635 - val_loss: 0.3621 - val_accuracy: 0.8194\n",
      "Epoch 31/100\n",
      "52/52 [==============================] - 5s 89ms/step - loss: 0.2822 - accuracy: 0.8883 - val_loss: 0.4603 - val_accuracy: 0.8056\n",
      "Epoch 32/100\n",
      "52/52 [==============================] - 4s 83ms/step - loss: 0.3124 - accuracy: 0.8780 - val_loss: 0.4877 - val_accuracy: 0.7778\n",
      "Epoch 33/100\n",
      "52/52 [==============================] - 4s 83ms/step - loss: 0.3048 - accuracy: 0.8829 - val_loss: 0.3422 - val_accuracy: 0.9167\n",
      "Epoch 34/100\n",
      "52/52 [==============================] - 5s 90ms/step - loss: 0.2732 - accuracy: 0.8907 - val_loss: 0.3724 - val_accuracy: 0.8333\n",
      "Epoch 35/100\n",
      "52/52 [==============================] - 4s 84ms/step - loss: 0.2395 - accuracy: 0.9106 - val_loss: 0.2719 - val_accuracy: 0.8611\n",
      "Epoch 36/100\n",
      "52/52 [==============================] - 4s 81ms/step - loss: 0.2809 - accuracy: 0.8889 - val_loss: 0.3964 - val_accuracy: 0.8194\n",
      "Epoch 37/100\n",
      "52/52 [==============================] - 5s 90ms/step - loss: 0.2767 - accuracy: 0.8992 - val_loss: 0.3823 - val_accuracy: 0.9167\n",
      "Epoch 38/100\n",
      "52/52 [==============================] - 4s 85ms/step - loss: 0.2879 - accuracy: 0.8913 - val_loss: 0.3976 - val_accuracy: 0.8333\n",
      "Epoch 39/100\n",
      "52/52 [==============================] - 4s 82ms/step - loss: 0.3335 - accuracy: 0.8690 - val_loss: 0.3447 - val_accuracy: 0.8611\n",
      "Epoch 40/100\n",
      "52/52 [==============================] - 4s 82ms/step - loss: 0.2581 - accuracy: 0.9010 - val_loss: 0.4421 - val_accuracy: 0.9028\n",
      "Epoch 41/100\n",
      "52/52 [==============================] - 4s 81ms/step - loss: 0.2420 - accuracy: 0.9040 - val_loss: 0.2050 - val_accuracy: 0.9028\n",
      "Epoch 42/100\n",
      "52/52 [==============================] - 4s 82ms/step - loss: 0.2043 - accuracy: 0.9263 - val_loss: 0.2506 - val_accuracy: 0.8750\n",
      "Epoch 43/100\n",
      "52/52 [==============================] - 4s 82ms/step - loss: 0.2100 - accuracy: 0.9203 - val_loss: 0.3095 - val_accuracy: 0.8472\n",
      "Epoch 44/100\n",
      "52/52 [==============================] - 5s 94ms/step - loss: 0.2126 - accuracy: 0.9118 - val_loss: 0.2183 - val_accuracy: 0.9028\n",
      "Epoch 45/100\n",
      "52/52 [==============================] - 5s 88ms/step - loss: 0.2065 - accuracy: 0.9161 - val_loss: 0.3343 - val_accuracy: 0.8611\n",
      "Epoch 46/100\n",
      "52/52 [==============================] - 5s 87ms/step - loss: 0.1810 - accuracy: 0.9287 - val_loss: 0.3040 - val_accuracy: 0.8472\n",
      "Epoch 47/100\n",
      "52/52 [==============================] - 4s 84ms/step - loss: 0.2148 - accuracy: 0.9203 - val_loss: 0.2745 - val_accuracy: 0.8889\n",
      "Epoch 48/100\n",
      "52/52 [==============================] - 4s 82ms/step - loss: 0.1906 - accuracy: 0.9287 - val_loss: 0.1977 - val_accuracy: 0.8889\n",
      "Epoch 49/100\n",
      "52/52 [==============================] - 4s 79ms/step - loss: 0.1474 - accuracy: 0.9457 - val_loss: 0.1685 - val_accuracy: 0.9444\n",
      "Epoch 50/100\n",
      "52/52 [==============================] - 4s 82ms/step - loss: 0.2261 - accuracy: 0.9221 - val_loss: 0.2935 - val_accuracy: 0.8750\n",
      "Epoch 51/100\n",
      "52/52 [==============================] - 4s 78ms/step - loss: 0.1717 - accuracy: 0.9354 - val_loss: 0.1474 - val_accuracy: 0.9306\n",
      "Epoch 52/100\n",
      "52/52 [==============================] - 4s 75ms/step - loss: 0.1664 - accuracy: 0.9402 - val_loss: 0.2117 - val_accuracy: 0.9028\n",
      "Epoch 53/100\n",
      "52/52 [==============================] - 4s 74ms/step - loss: 0.1979 - accuracy: 0.9197 - val_loss: 0.4782 - val_accuracy: 0.8333\n",
      "Epoch 54/100\n",
      "52/52 [==============================] - 4s 78ms/step - loss: 0.1703 - accuracy: 0.9396 - val_loss: 0.1625 - val_accuracy: 0.9028\n",
      "Epoch 55/100\n",
      "52/52 [==============================] - 4s 77ms/step - loss: 0.1620 - accuracy: 0.9390 - val_loss: 0.2830 - val_accuracy: 0.8889\n",
      "Epoch 56/100\n",
      "52/52 [==============================] - 4s 77ms/step - loss: 0.1750 - accuracy: 0.9378 - val_loss: 0.1936 - val_accuracy: 0.9306\n",
      "Epoch 57/100\n",
      "52/52 [==============================] - 4s 76ms/step - loss: 0.1731 - accuracy: 0.9390 - val_loss: 0.6515 - val_accuracy: 0.7639\n",
      "Epoch 58/100\n"
     ]
    },
    {
     "name": "stdout",
     "output_type": "stream",
     "text": [
      "52/52 [==============================] - 4s 78ms/step - loss: 0.2193 - accuracy: 0.9221 - val_loss: 0.2100 - val_accuracy: 0.9167\n",
      "Epoch 59/100\n",
      "52/52 [==============================] - 4s 74ms/step - loss: 0.1582 - accuracy: 0.9450 - val_loss: 0.3921 - val_accuracy: 0.8611\n",
      "Epoch 60/100\n",
      "52/52 [==============================] - 4s 75ms/step - loss: 0.1525 - accuracy: 0.9493 - val_loss: 0.2031 - val_accuracy: 0.9167\n",
      "Epoch 61/100\n",
      "52/52 [==============================] - 4s 74ms/step - loss: 0.1531 - accuracy: 0.9450 - val_loss: 0.1351 - val_accuracy: 0.9444\n",
      "Epoch 62/100\n",
      "52/52 [==============================] - 4s 75ms/step - loss: 0.1720 - accuracy: 0.9360 - val_loss: 0.3797 - val_accuracy: 0.8889\n",
      "Epoch 63/100\n",
      "52/52 [==============================] - 4s 74ms/step - loss: 0.1265 - accuracy: 0.9547 - val_loss: 0.2608 - val_accuracy: 0.8889\n",
      "Epoch 64/100\n",
      "52/52 [==============================] - 4s 74ms/step - loss: 0.1870 - accuracy: 0.9318 - val_loss: 0.1899 - val_accuracy: 0.9167\n",
      "Epoch 65/100\n",
      "52/52 [==============================] - 4s 78ms/step - loss: 0.1478 - accuracy: 0.9487 - val_loss: 0.4065 - val_accuracy: 0.9028\n",
      "Epoch 66/100\n",
      "52/52 [==============================] - 4s 74ms/step - loss: 0.1468 - accuracy: 0.9475 - val_loss: 0.1469 - val_accuracy: 0.9306\n",
      "Epoch 67/100\n",
      "52/52 [==============================] - 4s 75ms/step - loss: 0.1034 - accuracy: 0.9656 - val_loss: 0.1394 - val_accuracy: 0.9444\n",
      "Epoch 68/100\n",
      "52/52 [==============================] - 4s 75ms/step - loss: 0.1196 - accuracy: 0.9595 - val_loss: 0.1359 - val_accuracy: 0.9167\n",
      "Epoch 69/100\n",
      "52/52 [==============================] - 4s 77ms/step - loss: 0.1504 - accuracy: 0.9535 - val_loss: 0.1560 - val_accuracy: 0.9167\n",
      "Epoch 70/100\n",
      "52/52 [==============================] - 4s 79ms/step - loss: 0.1028 - accuracy: 0.9607 - val_loss: 0.1154 - val_accuracy: 0.9444\n",
      "Epoch 71/100\n",
      "52/52 [==============================] - 4s 77ms/step - loss: 0.1138 - accuracy: 0.9614 - val_loss: 0.2465 - val_accuracy: 0.9028\n",
      "Epoch 72/100\n",
      "52/52 [==============================] - 4s 78ms/step - loss: 0.1160 - accuracy: 0.9577 - val_loss: 0.2586 - val_accuracy: 0.9167\n",
      "Epoch 73/100\n",
      "52/52 [==============================] - 4s 79ms/step - loss: 0.1328 - accuracy: 0.9559 - val_loss: 0.1227 - val_accuracy: 0.9306\n",
      "Epoch 74/100\n",
      "52/52 [==============================] - 4s 78ms/step - loss: 0.1410 - accuracy: 0.9469 - val_loss: 0.2135 - val_accuracy: 0.9028\n",
      "Epoch 75/100\n",
      "52/52 [==============================] - 4s 77ms/step - loss: 0.1020 - accuracy: 0.9626 - val_loss: 0.2210 - val_accuracy: 0.9167\n",
      "Epoch 76/100\n",
      "52/52 [==============================] - 4s 77ms/step - loss: 0.1135 - accuracy: 0.9632 - val_loss: 0.1091 - val_accuracy: 0.9444\n",
      "Epoch 77/100\n",
      "52/52 [==============================] - 4s 76ms/step - loss: 0.1375 - accuracy: 0.9426 - val_loss: 0.5167 - val_accuracy: 0.8611\n",
      "Epoch 78/100\n",
      "52/52 [==============================] - 4s 77ms/step - loss: 0.0975 - accuracy: 0.9704 - val_loss: 0.2933 - val_accuracy: 0.8750\n",
      "Epoch 79/100\n",
      "52/52 [==============================] - 4s 77ms/step - loss: 0.1644 - accuracy: 0.9432 - val_loss: 0.1463 - val_accuracy: 0.9583\n",
      "Epoch 80/100\n",
      "52/52 [==============================] - 4s 77ms/step - loss: 0.0890 - accuracy: 0.9692 - val_loss: 0.0460 - val_accuracy: 1.0000\n",
      "Epoch 81/100\n",
      "52/52 [==============================] - 4s 76ms/step - loss: 0.1004 - accuracy: 0.9565 - val_loss: 0.1114 - val_accuracy: 0.9444\n",
      "Epoch 82/100\n",
      "52/52 [==============================] - 4s 75ms/step - loss: 0.0984 - accuracy: 0.9638 - val_loss: 0.2627 - val_accuracy: 0.9167\n",
      "Epoch 83/100\n",
      "52/52 [==============================] - 4s 76ms/step - loss: 0.0663 - accuracy: 0.9764 - val_loss: 0.0676 - val_accuracy: 0.9583\n",
      "Epoch 84/100\n",
      "52/52 [==============================] - 4s 75ms/step - loss: 0.0880 - accuracy: 0.9644 - val_loss: 0.5043 - val_accuracy: 0.8472\n",
      "Epoch 85/100\n",
      "52/52 [==============================] - 4s 75ms/step - loss: 0.0764 - accuracy: 0.9728 - val_loss: 0.3283 - val_accuracy: 0.9444\n",
      "Epoch 86/100\n",
      "52/52 [==============================] - 4s 76ms/step - loss: 0.0631 - accuracy: 0.9789 - val_loss: 0.1881 - val_accuracy: 0.9306\n",
      "Epoch 87/100\n",
      "52/52 [==============================] - 4s 76ms/step - loss: 0.0801 - accuracy: 0.9686 - val_loss: 0.2182 - val_accuracy: 0.9306\n",
      "Epoch 88/100\n",
      "52/52 [==============================] - 4s 76ms/step - loss: 0.0538 - accuracy: 0.9789 - val_loss: 0.1067 - val_accuracy: 0.9583\n",
      "Epoch 89/100\n",
      "52/52 [==============================] - 4s 75ms/step - loss: 0.0915 - accuracy: 0.9728 - val_loss: 0.2202 - val_accuracy: 0.9167\n",
      "Epoch 90/100\n",
      "52/52 [==============================] - 4s 76ms/step - loss: 0.0750 - accuracy: 0.9740 - val_loss: 0.2038 - val_accuracy: 0.9306\n",
      "Epoch 91/100\n",
      "52/52 [==============================] - 4s 73ms/step - loss: 0.1348 - accuracy: 0.9601 - val_loss: 0.2498 - val_accuracy: 0.9444\n",
      "Epoch 92/100\n",
      "52/52 [==============================] - 4s 71ms/step - loss: 0.0818 - accuracy: 0.9662 - val_loss: 0.0950 - val_accuracy: 0.9861\n",
      "Epoch 93/100\n",
      "52/52 [==============================] - 4s 71ms/step - loss: 0.1618 - accuracy: 0.9457 - val_loss: 0.4526 - val_accuracy: 0.9028\n",
      "Epoch 94/100\n",
      "52/52 [==============================] - 4s 71ms/step - loss: 0.1022 - accuracy: 0.9662 - val_loss: 0.1350 - val_accuracy: 0.9444\n",
      "Epoch 95/100\n",
      "52/52 [==============================] - 4s 71ms/step - loss: 0.0609 - accuracy: 0.9807 - val_loss: 0.1884 - val_accuracy: 0.9722\n",
      "Epoch 96/100\n",
      "52/52 [==============================] - 4s 71ms/step - loss: 0.0538 - accuracy: 0.9825 - val_loss: 0.0907 - val_accuracy: 0.9583\n",
      "Epoch 97/100\n",
      "52/52 [==============================] - 4s 73ms/step - loss: 0.0468 - accuracy: 0.9825 - val_loss: 0.2451 - val_accuracy: 0.9306\n",
      "Epoch 98/100\n",
      "52/52 [==============================] - 4s 72ms/step - loss: 0.0494 - accuracy: 0.9855 - val_loss: 0.1591 - val_accuracy: 0.9583\n",
      "Epoch 99/100\n",
      "52/52 [==============================] - 4s 73ms/step - loss: 0.0589 - accuracy: 0.9789 - val_loss: 0.0383 - val_accuracy: 0.9861\n",
      "Epoch 100/100\n",
      "52/52 [==============================] - 4s 72ms/step - loss: 0.0704 - accuracy: 0.9801 - val_loss: 0.2831 - val_accuracy: 0.9306\n"
     ]
    }
   ],
   "source": [
    "results = network.fit(x=train_gen, \n",
    "                      epochs=100, \n",
    "                      validation_data=test_gen)"
   ]
  },
  {
   "cell_type": "code",
   "execution_count": 20,
   "id": "5030c92d",
   "metadata": {},
   "outputs": [],
   "source": [
    "metrics = pd.DataFrame(network.history.history)"
   ]
  },
  {
   "cell_type": "code",
   "execution_count": 21,
   "id": "4c02fd47",
   "metadata": {},
   "outputs": [
    {
     "data": {
      "text/plain": [
       "Text(0, 0.5, 'Accuracy')"
      ]
     },
     "execution_count": 21,
     "metadata": {},
     "output_type": "execute_result"
    },
    {
     "data": {
      "image/png": "[encoded data removed]",
      "text/plain": [
       "<Figure size 1008x576 with 1 Axes>"
      ]
     },
     "metadata": {},
     "output_type": "display_data"
    }
   ],
   "source": [
    "metrics[['accuracy','val_accuracy']].plot(figsize=(14,8))\n",
    "plt.title(\"Accuracy History\")\n",
    "plt.xlabel(\"Epochs\")\n",
    "plt.ylabel(\"Accuracy\")"
   ]
  },
  {
   "cell_type": "code",
   "execution_count": 22,
   "id": "cfcca2bc",
   "metadata": {},
   "outputs": [
    {
     "data": {
      "text/plain": [
       "(0.0, 3.0)"
      ]
     },
     "execution_count": 22,
     "metadata": {},
     "output_type": "execute_result"
    },
    {
     "data": {
      "image/png": "[encoded data removed]",
      "text/plain": [
       "<Figure size 1008x576 with 1 Axes>"
      ]
     },
     "metadata": {},
     "output_type": "display_data"
    }
   ],
   "source": [
    "metrics[['loss','val_loss']].plot(figsize=(14,8))\n",
    "plt.title(\"Loss History\")\n",
    "plt.xlabel(\"Epochs\")\n",
    "plt.ylabel(\"Accuracy\")\n",
    "plt.ylim((0,3))"
   ]
  },
  {
   "cell_type": "code",
   "execution_count": 23,
   "id": "3e379fd5",
   "metadata": {},
   "outputs": [],
   "source": [
    "#prediction for random inclusion\n",
    "random_inclusion = np.expand_dims(random_inclusion, axis=0)"
   ]
  },
  {
   "cell_type": "code",
   "execution_count": 24,
   "id": "4b212e69",
   "metadata": {},
   "outputs": [
    {
     "name": "stderr",
     "output_type": "stream",
     "text": [
      "C:\\Users\\kmens\\anaconda3\\envs\\tensorflow\\lib\\site-packages\\tensorflow\\python\\keras\\engine\\sequential.py:455: UserWarning: `model.predict_classes()` is deprecated and will be removed after 2021-01-01. Please use instead:* `np.argmax(model.predict(x), axis=-1)`,   if your model does multi-class classification   (e.g. if it uses a `softmax` last-layer activation).* `(model.predict(x) > 0.5).astype(\"int32\")`,   if your model does binary classification   (e.g. if it uses a `sigmoid` last-layer activation).\n",
      "  warnings.warn('`model.predict_classes()` is deprecated and '\n"
     ]
    },
    {
     "data": {
      "text/plain": [
       "array([1], dtype=int64)"
      ]
     },
     "execution_count": 24,
     "metadata": {},
     "output_type": "execute_result"
    }
   ],
   "source": [
    "network.predict_classes(random_inclusion)"
   ]
  },
  {
   "cell_type": "code",
   "execution_count": 25,
   "id": "719f8fac",
   "metadata": {},
   "outputs": [],
   "source": [
    "#prediction is correct\n",
    "#network.save(\"DefectClassifier.h5\")"
   ]
  },
  {
   "cell_type": "code",
   "execution_count": 26,
   "id": "7c565567",
   "metadata": {},
   "outputs": [
    {
     "data": {
      "text/html": [
       "<div>\n",
       "<style scoped>\n",
       "    .dataframe tbody tr th:only-of-type {\n",
       "        vertical-align: middle;\n",
       "    }\n",
       "\n",
       "    .dataframe tbody tr th {\n",
       "        vertical-align: top;\n",
       "    }\n",
       "\n",
       "    .dataframe thead th {\n",
       "        text-align: right;\n",
       "    }\n",
       "</style>\n",
       "<table border=\"1\" class=\"dataframe\">\n",
       "  <thead>\n",
       "    <tr style=\"text-align: right;\">\n",
       "      <th></th>\n",
       "      <th>accuracy</th>\n",
       "      <th>val_accuracy</th>\n",
       "    </tr>\n",
       "  </thead>\n",
       "  <tbody>\n",
       "    <tr>\n",
       "      <th>0</th>\n",
       "      <td>0.300725</td>\n",
       "      <td>0.277778</td>\n",
       "    </tr>\n",
       "    <tr>\n",
       "      <th>1</th>\n",
       "      <td>0.294082</td>\n",
       "      <td>0.347222</td>\n",
       "    </tr>\n",
       "    <tr>\n",
       "      <th>2</th>\n",
       "      <td>0.391908</td>\n",
       "      <td>0.500000</td>\n",
       "    </tr>\n",
       "    <tr>\n",
       "      <th>3</th>\n",
       "      <td>0.461353</td>\n",
       "      <td>0.472222</td>\n",
       "    </tr>\n",
       "    <tr>\n",
       "      <th>4</th>\n",
       "      <td>0.456522</td>\n",
       "      <td>0.458333</td>\n",
       "    </tr>\n",
       "    <tr>\n",
       "      <th>...</th>\n",
       "      <td>...</td>\n",
       "      <td>...</td>\n",
       "    </tr>\n",
       "    <tr>\n",
       "      <th>95</th>\n",
       "      <td>0.982488</td>\n",
       "      <td>0.958333</td>\n",
       "    </tr>\n",
       "    <tr>\n",
       "      <th>96</th>\n",
       "      <td>0.982488</td>\n",
       "      <td>0.930556</td>\n",
       "    </tr>\n",
       "    <tr>\n",
       "      <th>97</th>\n",
       "      <td>0.985507</td>\n",
       "      <td>0.958333</td>\n",
       "    </tr>\n",
       "    <tr>\n",
       "      <th>98</th>\n",
       "      <td>0.978865</td>\n",
       "      <td>0.986111</td>\n",
       "    </tr>\n",
       "    <tr>\n",
       "      <th>99</th>\n",
       "      <td>0.980072</td>\n",
       "      <td>0.930556</td>\n",
       "    </tr>\n",
       "  </tbody>\n",
       "</table>\n",
       "<p>100 rows × 2 columns</p>\n",
       "</div>"
      ],
      "text/plain": [
       "    accuracy  val_accuracy\n",
       "0   0.300725      0.277778\n",
       "1   0.294082      0.347222\n",
       "2   0.391908      0.500000\n",
       "3   0.461353      0.472222\n",
       "4   0.456522      0.458333\n",
       "..       ...           ...\n",
       "95  0.982488      0.958333\n",
       "96  0.982488      0.930556\n",
       "97  0.985507      0.958333\n",
       "98  0.978865      0.986111\n",
       "99  0.980072      0.930556\n",
       "\n",
       "[100 rows x 2 columns]"
      ]
     },
     "execution_count": 26,
     "metadata": {},
     "output_type": "execute_result"
    }
   ],
   "source": [
    "metrics[['accuracy','val_accuracy']]"
   ]
  },
  {
   "cell_type": "code",
   "execution_count": null,
   "id": "9edc813a",
   "metadata": {},
   "outputs": [],
   "source": []
  },
  {
   "cell_type": "code",
   "execution_count": 27,
   "id": "a1b6c35c",
   "metadata": {},
   "outputs": [
    {
     "data": {
      "text/html": [
       "<div>\n",
       "<style scoped>\n",
       "    .dataframe tbody tr th:only-of-type {\n",
       "        vertical-align: middle;\n",
       "    }\n",
       "\n",
       "    .dataframe tbody tr th {\n",
       "        vertical-align: top;\n",
       "    }\n",
       "\n",
       "    .dataframe thead th {\n",
       "        text-align: right;\n",
       "    }\n",
       "</style>\n",
       "<table border=\"1\" class=\"dataframe\">\n",
       "  <thead>\n",
       "    <tr style=\"text-align: right;\">\n",
       "      <th></th>\n",
       "      <th>loss</th>\n",
       "      <th>val_loss</th>\n",
       "    </tr>\n",
       "  </thead>\n",
       "  <tbody>\n",
       "    <tr>\n",
       "      <th>0</th>\n",
       "      <td>4.509374</td>\n",
       "      <td>1.958868</td>\n",
       "    </tr>\n",
       "    <tr>\n",
       "      <th>1</th>\n",
       "      <td>1.657268</td>\n",
       "      <td>1.496706</td>\n",
       "    </tr>\n",
       "    <tr>\n",
       "      <th>2</th>\n",
       "      <td>1.369787</td>\n",
       "      <td>1.185642</td>\n",
       "    </tr>\n",
       "    <tr>\n",
       "      <th>3</th>\n",
       "      <td>1.223035</td>\n",
       "      <td>1.062576</td>\n",
       "    </tr>\n",
       "    <tr>\n",
       "      <th>4</th>\n",
       "      <td>1.223528</td>\n",
       "      <td>1.163029</td>\n",
       "    </tr>\n",
       "    <tr>\n",
       "      <th>...</th>\n",
       "      <td>...</td>\n",
       "      <td>...</td>\n",
       "    </tr>\n",
       "    <tr>\n",
       "      <th>95</th>\n",
       "      <td>0.053770</td>\n",
       "      <td>0.090746</td>\n",
       "    </tr>\n",
       "    <tr>\n",
       "      <th>96</th>\n",
       "      <td>0.046775</td>\n",
       "      <td>0.245113</td>\n",
       "    </tr>\n",
       "    <tr>\n",
       "      <th>97</th>\n",
       "      <td>0.049433</td>\n",
       "      <td>0.159140</td>\n",
       "    </tr>\n",
       "    <tr>\n",
       "      <th>98</th>\n",
       "      <td>0.058949</td>\n",
       "      <td>0.038251</td>\n",
       "    </tr>\n",
       "    <tr>\n",
       "      <th>99</th>\n",
       "      <td>0.070378</td>\n",
       "      <td>0.283087</td>\n",
       "    </tr>\n",
       "  </tbody>\n",
       "</table>\n",
       "<p>100 rows × 2 columns</p>\n",
       "</div>"
      ],
      "text/plain": [
       "        loss  val_loss\n",
       "0   4.509374  1.958868\n",
       "1   1.657268  1.496706\n",
       "2   1.369787  1.185642\n",
       "3   1.223035  1.062576\n",
       "4   1.223528  1.163029\n",
       "..       ...       ...\n",
       "95  0.053770  0.090746\n",
       "96  0.046775  0.245113\n",
       "97  0.049433  0.159140\n",
       "98  0.058949  0.038251\n",
       "99  0.070378  0.283087\n",
       "\n",
       "[100 rows x 2 columns]"
      ]
     },
     "execution_count": 27,
     "metadata": {},
     "output_type": "execute_result"
    }
   ],
   "source": [
    "metrics[['loss','val_loss']]"
   ]
  },
  {
   "cell_type": "code",
   "execution_count": null,
   "id": "8aa2abfd",
   "metadata": {},
   "outputs": [],
   "source": []
  }
 ],
 "metadata": {
  "kernelspec": {
   "display_name": "Python 3",
   "language": "python",
   "name": "python3"
  },
  "language_info": {
   "codemirror_mode": {
    "name": "ipython",
    "version": 3
   },
   "file_extension": ".py",
   "mimetype": "text/x-python",
   "name": "python",
   "nbconvert_exporter": "python",
   "pygments_lexer": "ipython3",
   "version": "3.8.10"
  }
 },
 "nbformat": 4,
 "nbformat_minor": 5
}
